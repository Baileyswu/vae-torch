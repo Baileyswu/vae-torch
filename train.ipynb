{
 "cells": [
  {
   "cell_type": "code",
   "execution_count": 1,
   "metadata": {
    "ExecuteTime": {
     "end_time": "2019-10-25T14:20:38.961813Z",
     "start_time": "2019-10-25T14:20:38.340184Z"
    }
   },
   "outputs": [],
   "source": [
    "import torch\n",
    "from torch.autograd import Variable\n",
    "import torchvision\n",
    "\n",
    "import numpy as np\n",
    "import os, time\n",
    "\n",
    "from utilities.data import CIFAR10, MNIST, SVHN\n",
    "from utilities.init import make_dirs, init_data_loader, write_preprocessor\n",
    "from utilities.output import write_logger, write_observations\n",
    "from utilities.parser import get_default_parser, update_code_dim\n",
    "from architecture.nn import VAE\n",
    "\n",
    "to_np = lambda x: x.data.cpu().numpy()\n",
    "normalize_to_zero_one = lambda x: (x + 1.) / 2.\n",
    "torch.cuda.set_device(\"cuda:4\")"
   ]
  },
  {
   "cell_type": "code",
   "execution_count": 2,
   "metadata": {
    "ExecuteTime": {
     "end_time": "2019-10-25T14:21:05.597894Z",
     "start_time": "2019-10-25T14:20:38.963426Z"
    }
   },
   "outputs": [
    {
     "name": "stdout",
     "output_type": "stream",
     "text": [
      "{'batch_size': 32, 'num_epochs': 100, 'num_samples': 64, 'num_every_nth_epoch': 1, 'num_gpus': 1, 'num_workers': 0, 'ckpt': False, 'ckpt_path': 'ckpt', 'data_path': 'data', 'img_path': 'img', 'output_path': '', 'dataset': 'mnist', 'training_digits': 0, 'z_dim': 10, 'lr_adam': 0.001, 'beta_1': 0.5, 'beta_2': 0.999, 'std': 0.02, 'num_filters_in_final_layer': 128, 'num_conv_layers': 4, 'model': 'vae', 'img_size': 64, 'num_channels': 1, 'c_dim': [128, 4, 4]}\n"
     ]
    },
    {
     "name": "stderr",
     "output_type": "stream",
     "text": [
      "/home/danliwoo/.conda/envs/beer/lib/python3.7/site-packages/torch/nn/_reduction.py:43: UserWarning: size_average and reduce args will be deprecated, please use reduction='sum' instead.\n",
      "  warnings.warn(warning.format(ret))\n"
     ]
    }
   ],
   "source": [
    "torch.backends.cudnn.benchmark = True\n",
    "\n",
    "parser = get_default_parser()\n",
    "config = parser.parse_args(args=[])\n",
    "\n",
    "make_dirs(config.ckpt_path, config.data_path, config.img_path)\n",
    "\n",
    "data_loader, config.img_size, config.num_channels = init_data_loader(config.dataset, config.data_path, config.batch_size, training_digits=config.training_digits)\n",
    "\n",
    "update_code_dim(config)\n",
    "write_preprocessor(config)\n",
    "\n",
    "v = VAE(config)\n",
    "v = v.cuda()\n",
    "v.train()\n",
    "\n",
    "if config.ckpt:\n",
    "    v.load_state_dict(torch.load(os.path.join(config.ckpt_path, 'v.pth')))\n",
    "\n",
    "v_optim = torch.optim.Adam(v.parameters(), lr=config.lr_adam, betas=(config.beta_1, config.beta_2))\n",
    "bce_loss = torch.nn.BCELoss(size_average=False) # no averaging, sum over batch, height and width\n",
    "\n",
    "logger = {\"loss\": np.array([])}\n",
    "z_fixed = Variable(torch.randn(config.num_samples, config.z_dim)).type(torch.cuda.FloatTensor)"
   ]
  },
  {
   "cell_type": "code",
   "execution_count": null,
   "metadata": {
    "ExecuteTime": {
     "start_time": "2019-10-25T14:20:37.284Z"
    },
    "scrolled": true
   },
   "outputs": [
    {
     "name": "stderr",
     "output_type": "stream",
     "text": [
      "/home/danliwoo/.conda/envs/beer/lib/python3.7/site-packages/torch/tensor.py:314: UserWarning: non-inplace resize is deprecated\n",
      "  warnings.warn(\"non-inplace resize is deprecated\")\n"
     ]
    },
    {
     "name": "stdout",
     "output_type": "stream",
     "text": [
      "[0] [185] [0.02] [750.51]\n",
      "[5.33]\n",
      "[1] [185] [0.02] [641.25]\n",
      "[5.18]\n",
      "[2] [185] [0.02] [660.69]\n",
      "[5.19]\n",
      "[3] [185] [0.02] [611.75]\n",
      "[4.96]\n",
      "[4] [185] [0.02] [614.11]\n",
      "[5.08]\n",
      "[5] [185] [0.02] [607.18]\n",
      "[5.04]\n",
      "[6] [185] [0.02] [616.63]\n",
      "[5.00]\n",
      "[7] [185] [0.01] [598.55]\n",
      "[4.80]\n",
      "[8] [185] [0.02] [579.65]\n",
      "[4.51]\n",
      "[9] [185] [0.02] [585.81]\n",
      "[5.29]\n",
      "[10] [185] [0.02] [575.53]\n",
      "[5.19]\n",
      "[11] [185] [0.02] [563.08]\n",
      "[5.62]\n",
      "[12] [185] [0.02] [587.58]\n",
      "[5.08]\n",
      "[13] [185] [0.02] [574.71]\n",
      "[4.89]\n",
      "[14] [185] [0.02] [584.81]\n",
      "[4.70]\n",
      "[15] [185] [0.02] [575.29]\n",
      "[4.88]\n",
      "[16] [185] [0.02] [595.90]\n",
      "[5.01]\n",
      "[17] [185] [0.02] [565.49]\n",
      "[4.98]\n",
      "[18] [185] [0.02] [566.31]\n",
      "[5.05]\n",
      "[19] [185] [0.02] [582.49]\n",
      "[5.26]\n",
      "[20] [185] [0.02] [576.12]\n",
      "[4.79]\n",
      "[21] [185] [0.02] [576.39]\n",
      "[4.79]\n",
      "[22] [185] [0.02] [574.60]\n",
      "[4.96]\n",
      "[23] [185] [0.01] [570.35]\n",
      "[4.77]\n",
      "[24] [185] [0.02] [545.28]\n",
      "[4.94]\n",
      "[25] [185] [0.02] [567.63]\n",
      "[4.95]\n",
      "[26] [185] [0.02] [567.66]\n",
      "[5.29]\n",
      "[27] [106] [0.03] [560.93]\r"
     ]
    }
   ],
   "source": [
    "for epoch in range(config.num_epochs):\n",
    "    if epoch >= 1:\n",
    "        print(\"\\n[%2.2f]\" % (time.time() - t0), end=\"\\n\")\n",
    "    t0 = time.time()\n",
    "\n",
    "    for step, (images, _) in enumerate(data_loader, 0):\n",
    "        if step >= 1:\n",
    "            print(\"[%i] [%i] [%2.2f] [%2.2f]\" % (epoch, step, time.time() - t1, to_np(loss)), end=\"\\r\")\n",
    "        t1 = time.time()\n",
    "\n",
    "        batch_size = images.size(0)\n",
    "\n",
    "        x = Variable(images.type(torch.cuda.FloatTensor))\n",
    "        x = normalize_to_zero_one(x)\n",
    "        x_r = v(x) # reconstruction\n",
    "\n",
    "        loss_r = bce_loss(x_r, x) / batch_size\n",
    "        loss_kl = torch.mean(.5 * torch.sum((v.mu**2) + torch.exp(v.log_sigma_sq) - 1 - v.log_sigma_sq, 1))\n",
    "        loss = loss_r + loss_kl\n",
    "        loss.backward()\n",
    "\n",
    "        v_optim.step()\n",
    "        v_optim.zero_grad()\n",
    "\n",
    "    if epoch % config.num_every_nth_epoch == 0:\n",
    "        write_observations(config, epoch, z_fixed, v, logger, loss)"
   ]
  },
  {
   "cell_type": "code",
   "execution_count": null,
   "metadata": {
    "ExecuteTime": {
     "start_time": "2019-10-25T14:20:37.285Z"
    }
   },
   "outputs": [],
   "source": [
    "write_logger(config, logger)"
   ]
  },
  {
   "cell_type": "markdown",
   "metadata": {},
   "source": [
    "Best path is stored at `ckpt/v.pth`"
   ]
  }
 ],
 "metadata": {
  "kernelspec": {
   "display_name": "Python 3",
   "language": "python",
   "name": "python3"
  },
  "language_info": {
   "codemirror_mode": {
    "name": "ipython",
    "version": 3
   },
   "file_extension": ".py",
   "mimetype": "text/x-python",
   "name": "python",
   "nbconvert_exporter": "python",
   "pygments_lexer": "ipython3",
   "version": "3.7.1"
  },
  "varInspector": {
   "cols": {
    "lenName": 16,
    "lenType": 16,
    "lenVar": 40
   },
   "kernels_config": {
    "python": {
     "delete_cmd_postfix": "",
     "delete_cmd_prefix": "del ",
     "library": "var_list.py",
     "varRefreshCmd": "print(var_dic_list())"
    },
    "r": {
     "delete_cmd_postfix": ") ",
     "delete_cmd_prefix": "rm(",
     "library": "var_list.r",
     "varRefreshCmd": "cat(var_dic_list()) "
    }
   },
   "oldHeight": 383,
   "position": {
    "height": "40px",
    "left": "1168px",
    "right": "20px",
    "top": "120px",
    "width": "350px"
   },
   "types_to_exclude": [
    "module",
    "function",
    "builtin_function_or_method",
    "instance",
    "_Feature"
   ],
   "varInspector_section_display": "none",
   "window_display": true
  }
 },
 "nbformat": 4,
 "nbformat_minor": 2
}
