{
 "cells": [
  {
   "cell_type": "code",
   "execution_count": null,
   "metadata": {
    "ExecuteTime": {
     "end_time": "2019-10-25T14:21:31.707292Z",
     "start_time": "2019-10-25T14:21:31.116744Z"
    }
   },
   "outputs": [],
   "source": [
    "import torch\n",
    "from torch.autograd import Variable\n",
    "import torchvision\n",
    "\n",
    "import numpy as np\n",
    "import os, time\n",
    "\n",
    "from utilities.data import CIFAR10, MNIST, SVHN\n",
    "from utilities.init import make_dirs, init_data_loader, write_preprocessor\n",
    "from utilities.output import write_logger, write_observations\n",
    "from utilities.parser import get_default_parser, update_code_dim\n",
    "from architecture.nn import VAE\n",
    "\n",
    "to_np = lambda x: x.data.cpu().numpy()\n",
    "normalize_to_zero_one = lambda x: (x + 1.) / 2.\n",
    "torch.cuda.set_device(\"cuda:4\")"
   ]
  },
  {
   "cell_type": "code",
   "execution_count": null,
   "metadata": {
    "ExecuteTime": {
     "end_time": "2019-10-25T14:22:57.115568Z",
     "start_time": "2019-10-25T14:22:56.822900Z"
    }
   },
   "outputs": [],
   "source": [
    "torch.backends.cudnn.benchmark = True\n",
    "\n",
    "parser = get_default_parser()\n",
    "config = parser.parse_args(args=[])\n",
    "\n",
    "config.img_size = 64\n",
    "config.num_channels = 1\n",
    "config.ckpt = True\n",
    "\n",
    "update_code_dim(config)\n",
    "write_preprocessor(config)\n",
    "\n",
    "v = VAE(config)\n",
    "v = v.cuda()\n",
    "\n",
    "if config.ckpt:\n",
    "    print(\"load_state\")\n",
    "    v.load_state_dict(torch.load(os.path.join(config.ckpt_path, 'v.pth')))"
   ]
  },
  {
   "cell_type": "code",
   "execution_count": null,
   "metadata": {
    "ExecuteTime": {
     "end_time": "2019-10-25T14:22:44.526471Z",
     "start_time": "2019-10-25T14:22:44.518869Z"
    }
   },
   "outputs": [],
   "source": [
    "%matplotlib inline\n",
    "import matplotlib.pyplot as plt\n",
    "import matplotlib.image as mpimg\n",
    "\n",
    "def generate_from_hidden(config, z, v, imgname):\n",
    "    samples = v.Decoder(z)\n",
    "    torchvision.utils.save_image(samples.data, imgname, normalize=True)\n",
    "    return samples"
   ]
  },
  {
   "cell_type": "code",
   "execution_count": null,
   "metadata": {
    "ExecuteTime": {
     "end_time": "2019-10-25T14:23:05.181230Z",
     "start_time": "2019-10-25T14:23:05.102751Z"
    }
   },
   "outputs": [],
   "source": [
    "z_img = 'z.png'\n",
    "x_img = 'generate.png'\n",
    "z = Variable(torch.randn(config.num_samples, config.z_dim)).type(torch.cuda.FloatTensor)\n",
    "gx = generate_from_hidden(config, z, v, x_img)\n",
    "torchvision.utils.save_image(z.data, z_img)"
   ]
  },
  {
   "cell_type": "code",
   "execution_count": null,
   "metadata": {
    "ExecuteTime": {
     "end_time": "2019-10-25T14:22:46.490033Z",
     "start_time": "2019-10-25T14:22:46.326451Z"
    }
   },
   "outputs": [],
   "source": [
    "plt.imshow(mpimg.imread(z_img))"
   ]
  },
  {
   "cell_type": "code",
   "execution_count": null,
   "metadata": {
    "ExecuteTime": {
     "end_time": "2019-10-25T14:23:07.501561Z",
     "start_time": "2019-10-25T14:23:07.198847Z"
    }
   },
   "outputs": [],
   "source": [
    "plt.imshow(mpimg.imread(x_img))"
   ]
  }
 ],
 "metadata": {
  "kernelspec": {
   "display_name": "Python 3",
   "language": "python",
   "name": "python3"
  },
  "language_info": {
   "codemirror_mode": {
    "name": "ipython",
    "version": 3
   },
   "file_extension": ".py",
   "mimetype": "text/x-python",
   "name": "python",
   "nbconvert_exporter": "python",
   "pygments_lexer": "ipython3",
   "version": "3.7.1"
  },
  "varInspector": {
   "cols": {
    "lenName": 16,
    "lenType": 16,
    "lenVar": 40
   },
   "kernels_config": {
    "python": {
     "delete_cmd_postfix": "",
     "delete_cmd_prefix": "del ",
     "library": "var_list.py",
     "varRefreshCmd": "print(var_dic_list())"
    },
    "r": {
     "delete_cmd_postfix": ") ",
     "delete_cmd_prefix": "rm(",
     "library": "var_list.r",
     "varRefreshCmd": "cat(var_dic_list()) "
    }
   },
   "oldHeight": 383,
   "position": {
    "height": "405px",
    "left": "1751px",
    "right": "20px",
    "top": "279px",
    "width": "682px"
   },
   "types_to_exclude": [
    "module",
    "function",
    "builtin_function_or_method",
    "instance",
    "_Feature"
   ],
   "varInspector_section_display": "block",
   "window_display": true
  }
 },
 "nbformat": 4,
 "nbformat_minor": 2
}
